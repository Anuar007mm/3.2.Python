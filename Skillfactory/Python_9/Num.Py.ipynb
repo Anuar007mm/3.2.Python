{
 "cells": [
  {
   "cell_type": "markdown",
   "id": "5ac949f3",
   "metadata": {},
   "source": [
    "# О массивах NumPy"
   ]
  },
  {
   "cell_type": "code",
   "execution_count": 3,
   "id": "909e6f65",
   "metadata": {},
   "outputs": [],
   "source": [
    "import numpy as np"
   ]
  },
  {
   "cell_type": "code",
   "execution_count": 4,
   "id": "0a6b07d9",
   "metadata": {},
   "outputs": [
    {
     "name": "stdout",
     "output_type": "stream",
     "text": [
      "Object `массива` not found.\n"
     ]
    }
   ],
   "source": [
    "# Задание_1\n",
    "Какой индекс имеет верхний левый элемент любого двумерного массива?\n",
    "answer_1 = [0,0]"
   ]
  },
  {
   "cell_type": "code",
   "execution_count": 5,
   "id": "787e6069",
   "metadata": {},
   "outputs": [
    {
     "data": {
      "text/plain": [
       "array([[ 8, 13, 18,  4],\n",
       "       [25,  3, 18, 28],\n",
       "       [14, 15, 18, 24],\n",
       "       [ 1,  2,  3,  4]])"
      ]
     },
     "execution_count": 5,
     "metadata": {},
     "output_type": "execute_result"
    }
   ],
   "source": [
    "# Задание_2\n",
    "np.array([[8,13,18,4], [25,3,18,28], [14,15,18,24], [1,2,3,4]])"
   ]
  },
  {
   "cell_type": "code",
   "execution_count": 6,
   "id": "dbf1faba",
   "metadata": {},
   "outputs": [],
   "source": [
    "answer_2 = [8, 3, 18, 4]"
   ]
  },
  {
   "cell_type": "code",
   "execution_count": 7,
   "id": "40298c50",
   "metadata": {},
   "outputs": [
    {
     "data": {
      "text/plain": [
       "array([[  1. ,  57. ,  71. , 127. , 141. , 197. , 211. , 267. , 281. ],\n",
       "       [  0.5,  28.5,  35.5,  63.5,  70.5,  98.5, 105.5, 133.5, 140.5],\n",
       "       [-99. , -43. , -29. ,  27. ,  41. ,  97. , 111. , 167. , 181. ]])"
      ]
     },
     "execution_count": 7,
     "metadata": {},
     "output_type": "execute_result"
    }
   ],
   "source": [
    "# Задание_3\n",
    "my_secret = [x for x in range(1, 301, 7) if x%10 == 7 or x%10 == 1]\n",
    "np.array([my_secret, [x/2 for x in my_secret], [x-100 for x in my_secret]])"
   ]
  },
  {
   "cell_type": "code",
   "execution_count": 8,
   "id": "7517c749",
   "metadata": {},
   "outputs": [],
   "source": [
    "answer_3 = [281.0, 140.5, 181.0]"
   ]
  },
  {
   "cell_type": "code",
   "execution_count": 9,
   "id": "dba8354c",
   "metadata": {},
   "outputs": [],
   "source": [
    "# Задание_4\n",
    "answer_4 = np.eye(5)"
   ]
  },
  {
   "cell_type": "code",
   "execution_count": null,
   "id": "4109cd24",
   "metadata": {},
   "outputs": [],
   "source": []
  }
 ],
 "metadata": {
  "kernelspec": {
   "display_name": "Python 3",
   "language": "python",
   "name": "python3"
  },
  "language_info": {
   "codemirror_mode": {
    "name": "ipython",
    "version": 3
   },
   "file_extension": ".py",
   "mimetype": "text/x-python",
   "name": "python",
   "nbconvert_exporter": "python",
   "pygments_lexer": "ipython3",
   "version": "3.8.8"
  }
 },
 "nbformat": 4,
 "nbformat_minor": 5
}
