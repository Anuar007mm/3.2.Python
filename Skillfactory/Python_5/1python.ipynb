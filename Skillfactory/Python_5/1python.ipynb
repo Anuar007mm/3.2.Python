{
 "cells": [
  {
   "cell_type": "code",
   "execution_count": 1,
   "id": "2ebd5ce7",
   "metadata": {
    "scrolled": true
   },
   "outputs": [
    {
     "name": "stdout",
     "output_type": "stream",
     "text": [
      "Первый        Январь\n",
      "Второй       Февраль\n",
      "Третий          Март\n",
      "Четвёртый     Апрель\n",
      "dtype: object\n"
     ]
    }
   ],
   "source": [
    "import pandas as pd\n",
    "\n",
    "data = pd.Series([\"Январь\", \"Февраль\", \"Март\", \"Апрель\"],\n",
    "                 index = ['Первый', \"Второй\", \"Третий\", \"Четвёртый\"])\n",
    "print(data)"
   ]
  },
  {
   "cell_type": "code",
   "execution_count": 2,
   "id": "de9ce381",
   "metadata": {},
   "outputs": [
    {
     "name": "stdout",
     "output_type": "stream",
     "text": [
      "Январь\n"
     ]
    }
   ],
   "source": [
    "print(data.loc[\"Первый\"])"
   ]
  },
  {
   "cell_type": "code",
   "execution_count": 3,
   "id": "1832d636",
   "metadata": {},
   "outputs": [
    {
     "name": "stdout",
     "output_type": "stream",
     "text": [
      "Первый    Январь\n",
      "Третий      Март\n",
      "dtype: object\n"
     ]
    }
   ],
   "source": [
    "print(data.loc[[\"Первый\", \"Третий\"]])"
   ]
  },
  {
   "cell_type": "code",
   "execution_count": null,
   "id": "ee88071f",
   "metadata": {},
   "outputs": [],
   "source": []
  }
 ],
 "metadata": {
  "kernelspec": {
   "display_name": "Python 3",
   "language": "python",
   "name": "python3"
  },
  "language_info": {
   "codemirror_mode": {
    "name": "ipython",
    "version": 3
   },
   "file_extension": ".py",
   "mimetype": "text/x-python",
   "name": "python",
   "nbconvert_exporter": "python",
   "pygments_lexer": "ipython3",
   "version": "3.8.8"
  }
 },
 "nbformat": 4,
 "nbformat_minor": 5
}
