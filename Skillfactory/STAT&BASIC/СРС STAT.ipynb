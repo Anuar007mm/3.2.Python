{
 "cells": [
  {
   "cell_type": "markdown",
   "id": "5a0abdc8",
   "metadata": {},
   "source": [
    "# **Задание 1.4.1**\n",
    "Какие меры оценивают центральные (или типичные) наблюдения? Выберите все верные варианты.\n",
    "* Среднее арифметическое\n",
    "* Медиана\n",
    "* Мода"
   ]
  },
  {
   "cell_type": "markdown",
   "id": "2f6bc1e7",
   "metadata": {},
   "source": [
    "# **Задание 1.4.2**\n",
    "Какая мера необходима для нахождения самого часто встречающегося значения?\n",
    "* Мода"
   ]
  },
  {
   "cell_type": "markdown",
   "id": "270e90c8",
   "metadata": {},
   "source": [
    "# Для каких из перечисленных случаев медиана подходит как мера центральной тенденции?\n"
   ]
  },
  {
   "cell_type": "code",
   "execution_count": null,
   "id": "5d07aa74",
   "metadata": {},
   "outputs": [],
   "source": []
  },
  {
   "cell_type": "code",
   "execution_count": null,
   "id": "d4c40db0",
   "metadata": {},
   "outputs": [],
   "source": []
  },
  {
   "cell_type": "code",
   "execution_count": null,
   "id": "f7758f09",
   "metadata": {},
   "outputs": [],
   "source": []
  },
  {
   "cell_type": "code",
   "execution_count": null,
   "id": "de438757",
   "metadata": {},
   "outputs": [],
   "source": []
  },
  {
   "cell_type": "code",
   "execution_count": null,
   "id": "729a697d",
   "metadata": {},
   "outputs": [],
   "source": []
  },
  {
   "cell_type": "code",
   "execution_count": null,
   "id": "b8ccc0de",
   "metadata": {},
   "outputs": [],
   "source": []
  },
  {
   "cell_type": "code",
   "execution_count": null,
   "id": "809c1a84",
   "metadata": {},
   "outputs": [],
   "source": []
  }
 ],
 "metadata": {
  "kernelspec": {
   "display_name": "Python 3",
   "language": "python",
   "name": "python3"
  },
  "language_info": {
   "codemirror_mode": {
    "name": "ipython",
    "version": 3
   },
   "file_extension": ".py",
   "mimetype": "text/x-python",
   "name": "python",
   "nbconvert_exporter": "python",
   "pygments_lexer": "ipython3",
   "version": "3.8.8"
  }
 },
 "nbformat": 4,
 "nbformat_minor": 5
}
